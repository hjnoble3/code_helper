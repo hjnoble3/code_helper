{
	"cells": [
		{
			"cell_type": "code",
			"execution_count": 1,
			"metadata": {},
			"outputs": [
				{
					"name": "stdout",
					"output_type": "stream",
					"text": [
						"Generated rename map saved to rename_map.json\n"
					]
				}
			],
			"source": [
				"import os\n",
				"import ast\n",
				"import json\n",
				"\n",
				"\n",
				"def extract_definitions(file_path):\n",
				"    \"\"\"Extract defined variables and functions from a Python file.\"\"\"\n",
				"    with open(file_path, 'r', encoding='utf-8') as f:\n",
				"        code = f.read()\n",
				"    tree = ast.parse(code)\n",
				"    definitions = {}\n",
				"\n",
				"    for node in ast.walk(tree):\n",
				"        if isinstance(node, ast.FunctionDef):\n",
				"            definitions[node.name] = {'type': 'function', 'context': code}\n",
				"        elif isinstance(node, ast.Assign):\n",
				"            for target in node.targets:\n",
				"                if isinstance(target, ast.Name) and isinstance(target.ctx, ast.Store):\n",
				"                    definitions[target.id] = {'type': 'variable', 'context': code}\n",
				"\n",
				"    return definitions\n",
				"\n",
				"\n",
				"def suggest_better_name(name, def_type, context):\n",
				"    \"\"\"Simulate LLM suggesting a snake_case name based on context.\"\"\"\n",
				"    # Placeholder: In practice, I'd analyze context and suggest a name\n",
				"    # Share your code for real suggestions!\n",
				"    if def_type == 'function':\n",
				"        return f\"process_{name.lower()}\" if not name.islower() else name\n",
				"    elif def_type == 'variable':\n",
				"        return f\"{name.lower()}_value\" if not name.islower() else name\n",
				"    return name  # Fallback\n",
				"\n",
				"\n",
				"def generate_rename_map(directory, map_file):\n",
				"    all_definitions = {}\n",
				"    for root, _, files in os.walk(directory):\n",
				"        for file in files:\n",
				"            if file.endswith('.py'):\n",
				"                file_path = os.path.join(root, file)\n",
				"                defs = extract_definitions(file_path)\n",
				"                all_definitions[file_path] = defs\n",
				"\n",
				"    rename_map = {}\n",
				"    for file_path, defs in all_definitions.items():\n",
				"        for name, info in defs.items():\n",
				"            if name not in rename_map:  # Only suggest once per unique name\n",
				"                new_name = suggest_better_name(name, info['type'], info['context'])\n",
				"                if new_name != name and not new_name.startswith('_'):  # Avoid private names\n",
				"                    rename_map[name] = new_name\n",
				"\n",
				"    # Save to JSON\n",
				"    with open(map_file, 'w', encoding='utf-8') as f:\n",
				"        json.dump(rename_map, f, indent=4)\n",
				"    print(f\"Generated rename map saved to {map_file}\")\n",
				"\n",
				"\n",
				"if __name__ == \"__main__\":\n",
				"    project_dir = input(\"Enter your project directory: \")\n",
				"    map_file = \"rename_map.json\"\n",
				"    generate_rename_map(project_dir, map_file)"
			]
		},
		{
			"cell_type": "code",
			"execution_count": null,
			"metadata": {},
			"outputs": [],
			"source": []
		}
	],
	"metadata": {
		"kernelspec": {
			"display_name": "Python 3",
			"language": "python",
			"name": "python3"
		},
		"language_info": {
			"codemirror_mode": {
				"name": "ipython",
				"version": 3
			},
			"file_extension": ".py",
			"mimetype": "text/x-python",
			"name": "python",
			"nbconvert_exporter": "python",
			"pygments_lexer": "ipython3",
			"version": "3.12.5"
		}
	},
	"nbformat": 4,
	"nbformat_minor": 2
}
