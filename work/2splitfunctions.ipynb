{
 "cells": [
  {
   "cell_type": "code",
   "execution_count": 2,
   "metadata": {},
   "outputs": [
    {
     "name": "stdout",
     "output_type": "stream",
     "text": [
      "Written code_elements_20250226_131211_js.csv\n",
      "Written code_elements_20250226_131211_py.csv\n",
      "Written code_elements_20250226_131211_svelte.csv\n",
      "Written code_elements_20250226_131211_ts.csv\n"
     ]
    }
   ],
   "source": [
    "import pandas as pd\n",
    "from datetime import datetime\n",
    "\n",
    "# Read the input CSV file\n",
    "input_file = 'code_elements_20250226_130805.csv'  # Replace with your input file path\n",
    "df = pd.read_csv(input_file)\n",
    "\n",
    "# Get the current timestamp to generate unique filenames\n",
    "current_time = datetime.now().strftime('%Y%m%d_%H%M%S')\n",
    "\n",
    "# Group the DataFrame by 'File Type'\n",
    "grouped = df.groupby('File Type')\n",
    "\n",
    "# Iterate over the groups and write each group to a new file\n",
    "for file_type, group in grouped:\n",
    "    # Create the output filename\n",
    "    output_filename = f\"code_elements_{current_time}_{file_type.lstrip('.').replace('/', '_')}.csv\"\n",
    "\n",
    "    # Write the group to the new CSV file\n",
    "    group.to_csv(output_filename, index=False)\n",
    "    print(f\"Written {output_filename}\")"
   ]
  },
  {
   "cell_type": "code",
   "execution_count": null,
   "metadata": {},
   "outputs": [],
   "source": []
  }
 ],
 "metadata": {
  "kernelspec": {
   "display_name": "Python 3",
   "language": "python",
   "name": "python3"
  },
  "language_info": {
   "codemirror_mode": {
    "name": "ipython",
    "version": 3
   },
   "file_extension": ".py",
   "mimetype": "text/x-python",
   "name": "python",
   "nbconvert_exporter": "python",
   "pygments_lexer": "ipython3",
   "version": "3.12.5"
  }
 },
 "nbformat": 4,
 "nbformat_minor": 2
}
