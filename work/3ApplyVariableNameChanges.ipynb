{
	"cells": [
		{
			"cell_type": "code",
			"execution_count": 9,
			"metadata": {},
			"outputs": [
				{
					"name": "stderr",
					"output_type": "stream",
					"text": [
						"Replacing variables/functions: 100%|██████████| 143/143 [00:02<00:00, 53.36file/s] "
					]
				},
				{
					"name": "stdout",
					"output_type": "stream",
					"text": [
						"Completed! Changed 90 of 143 files.\n"
					]
				},
				{
					"name": "stderr",
					"output_type": "stream",
					"text": [
						"\n"
					]
				}
			],
			"source": [
				"import os\n",
				"import json\n",
				"import re\n",
				"import threading\n",
				"from concurrent.futures import ThreadPoolExecutor\n",
				"from tqdm import tqdm\n",
				"\n",
				"\n",
				"def replace_in_file(file_path, rename_map):\n",
				"    \"\"\"Replace occurrences in a file using regex with word boundaries.\"\"\"\n",
				"    try:\n",
				"        with open(file_path, 'r', encoding='utf-8') as f:\n",
				"            content = f.read()\n",
				"\n",
				"        original_content = content\n",
				"        # Create a regex pattern that matches any of the keys with word boundaries\n",
				"        pattern = r'\\b(?:' + '|'.join(re.escape(key) for key in rename_map.keys()) + r')\\b'\n",
				"\n",
				"        def replacer(match):\n",
				"            return rename_map[match.group(0)]\n",
				"\n",
				"        new_content = re.sub(pattern, replacer, content)\n",
				"\n",
				"        # Only write if content changed\n",
				"        if new_content != original_content:\n",
				"            with open(file_path, 'w', encoding='utf-8') as f:\n",
				"                f.write(new_content)\n",
				"            return True\n",
				"        return False\n",
				"    except Exception as e:\n",
				"        print(f\"Error processing {file_path}: {e}\")\n",
				"        return False\n",
				"\n",
				"\n",
				"def process_directory(directory, rename_map):\n",
				"    \"\"\"Process all Python files in directory using multiple threads.\"\"\"\n",
				"    py_files = [os.path.join(root, file)\n",
				"                for root, _, files in os.walk(directory)\n",
				"                for file in files if file.endswith('.py')]\n",
				"\n",
				"    if not py_files:\n",
				"        print(\"No Python files found in the directory.\")\n",
				"        return\n",
				"\n",
				"    results = [False] * len(py_files)\n",
				"\n",
				"    # Function to be executed by each thread\n",
				"    def process_file(index, file_path):\n",
				"        results[index] = replace_in_file(file_path, rename_map)\n",
				"\n",
				"    # Create and start threads with progress bar\n",
				"    with tqdm(total=len(py_files), desc=\"Replacing variables/functions\", unit=\"file\") as pbar:\n",
				"        with ThreadPoolExecutor(max_workers=os.cpu_count() or 4) as executor:\n",
				"            # Submit tasks and keep track of futures\n",
				"            futures = []\n",
				"            for i, file_path in enumerate(py_files):\n",
				"                future = executor.submit(process_file, i, file_path)\n",
				"                future.add_done_callback(lambda p: pbar.update(1))\n",
				"                futures.append(future)\n",
				"\n",
				"            # Wait for all tasks to complete\n",
				"            for future in futures:\n",
				"                try:\n",
				"                    future.result()\n",
				"                except Exception as e:\n",
				"                    print(f\"Thread error: {e}\")\n",
				"\n",
				"    changed_files = sum(results)\n",
				"    print(f\"Completed! Changed {changed_files} of {len(py_files)} files.\")\n",
				"\n",
				"\n",
				"if __name__ == \"__main__\":\n",
				"    project_dir = input(\"Enter your project directory: \")\n",
				"    map_file = \"rename_map.json\"\n",
				"\n",
				"    with open(map_file, 'r', encoding='utf-8') as f:\n",
				"        rename_map = json.load(f)\n",
				"\n",
				"    process_directory(project_dir, rename_map)"
			]
		},
		{
			"cell_type": "code",
			"execution_count": null,
			"metadata": {},
			"outputs": [],
			"source": []
		}
	],
	"metadata": {
		"kernelspec": {
			"display_name": "Python 3",
			"language": "python",
			"name": "python3"
		},
		"language_info": {
			"codemirror_mode": {
				"name": "ipython",
				"version": 3
			},
			"file_extension": ".py",
			"mimetype": "text/x-python",
			"name": "python",
			"nbconvert_exporter": "python",
			"pygments_lexer": "ipython3",
			"version": "3.12.5"
		}
	},
	"nbformat": 4,
	"nbformat_minor": 2
}
