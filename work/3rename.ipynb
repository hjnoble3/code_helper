{
 "cells": [
  {
   "cell_type": "code",
   "execution_count": 2,
   "metadata": {},
   "outputs": [
    {
     "name": "stdout",
     "output_type": "stream",
     "text": [
      "Processed CSV has been saved to processed_output_file.csv\n"
     ]
    }
   ],
   "source": [
    "import pandas as pd\n",
    "import re\n",
    "\n",
    "# Function to convert name to snake_case\n",
    "\n",
    "\n",
    "def to_snake_case(name):\n",
    "    # Replace camel case with underscores and convert to lower case\n",
    "    name = re.sub(r'([a-z])([A-Z])', r'\\1_\\2', name)\n",
    "    return name.lower()\n",
    "\n",
    "# Load CSV file\n",
    "\n",
    "\n",
    "def process_csv(input_file, output_file):\n",
    "    # Read the CSV file\n",
    "    df = pd.read_csv(input_file)\n",
    "\n",
    "    # Check if necessary columns exist\n",
    "    if 'Element Name' not in df.columns:\n",
    "        raise ValueError(\"The CSV file must contain the 'Element Name' column\")\n",
    "\n",
    "    # Apply the function to generate the Suggested Name column\n",
    "    df['Suggested Name'] = df['Element Name'].apply(to_snake_case)\n",
    "\n",
    "    # Save the result to a new CSV file\n",
    "    df.to_csv(output_file, index=False)\n",
    "    print(f\"Processed CSV has been saved to {output_file}\")\n",
    "\n",
    "\n",
    "# Example usage\n",
    "input_csv_file = 'code_elements_20250226_144251.csv'  # Replace with your input CSV file path\n",
    "output_csv_file = 'processed_output_file.csv'  # Replace with your desired output CSV file path\n",
    "\n",
    "process_csv(input_csv_file, output_csv_file)"
   ]
  }
 ],
 "metadata": {
  "kernelspec": {
   "display_name": "Python 3",
   "language": "python",
   "name": "python3"
  },
  "language_info": {
   "codemirror_mode": {
    "name": "ipython",
    "version": 3
   },
   "file_extension": ".py",
   "mimetype": "text/x-python",
   "name": "python",
   "nbconvert_exporter": "python",
   "pygments_lexer": "ipython3",
   "version": "3.12.5"
  }
 },
 "nbformat": 4,
 "nbformat_minor": 2
}
