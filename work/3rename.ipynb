{
 "cells": [
  {
   "cell_type": "code",
   "execution_count": null,
   "metadata": {},
   "outputs": [],
   "source": [
    "If the character length of Element Name is less than 3, delete the row.\n",
    "For each remaining row, check if the Element Name seems like a default file type variable (e.g., \"txt\", \"image\", \"file\", \"data\"). If it is not a default file type variable, suggest a new name for the Element Name in snake_case format (e.g., new_element_name).\n",
    "Return a table with the following columns: File Type, Element Type, Element Name, Default (True/False), and Suggested Name (if not default)."
   ]
  },
  {
   "cell_type": "code",
   "execution_count": null,
   "metadata": {},
   "outputs": [],
   "source": [
    "gronk\n"
   ]
  }
 ],
 "metadata": {
  "kernelspec": {
   "display_name": "Python 3",
   "language": "python",
   "name": "python3"
  },
  "language_info": {
   "codemirror_mode": {
    "name": "ipython",
    "version": 3
   },
   "file_extension": ".py",
   "mimetype": "text/x-python",
   "name": "python",
   "nbconvert_exporter": "python",
   "pygments_lexer": "ipython3",
   "version": "3.12.5"
  }
 },
 "nbformat": 4,
 "nbformat_minor": 2
}
