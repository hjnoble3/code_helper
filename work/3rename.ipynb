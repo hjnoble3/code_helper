{
 "cells": [
  {
   "cell_type": "code",
   "execution_count": 2,
   "metadata": {},
   "outputs": [],
   "source": [
    "import csv\n",
    "import os\n",
    "import sys\n",
    "import concurrent.futures\n",
    "from tqdm import tqdm  # Importing the tqdm library for the progress bar\n",
    "\n",
    "# Add the src directory to the Python path\n",
    "sys.path.append(os.path.abspath(os.path.join('..', 'src')))\n",
    "# Now you can import llm_interface from llm_backend\n",
    "from llm_backend import llm_interface\n",
    "\n",
    "def is_default_or_suggest_better_name(file_type, element_type, element_name, model=\"llama3:instruct\"):\n",
    "    \"\"\"\n",
    "    Sends a code element to the LLM to determine if it's a default name\n",
    "    and get a suggested better name if needed.\n",
    "    \"\"\"\n",
    "    prompt = f\"\"\"\n",
    "You are a code quality expert analyzing a {element_type} named '{element_name}' from a {file_type} file.\n",
    "First, determine if this name is likely a default, temporary, or non-descriptive identifier (like a single letter,\n",
    "abbreviated name, or auto-generated name).\n",
    "Then, if it appears to be a default or non-descriptive name, suggest a better snake_case name that would improve\n",
    "code readability based on common naming conventions for {file_type} files.\n",
    "Return ONLY a single line in this exact format:\n",
    "DEFAULT: [Yes/No], SUGGESTION: [suggested_snake_case_name or 'None if good']\n",
    "Examples:\n",
    "- For a function named 'a' -> DEFAULT: Yes, SUGGESTION: a\n",
    "- For a variable named 'tmp' -> DEFAULT: Yes, SUGGESTION: tmp\n",
    "- For a function named 'calculateTotal' -> DEFAULT: No, SUGGESTION: calculate_total\n",
    "- For a well-named variable 'user_count' -> DEFAULT: No, SUGGESTION: user_count\n",
    "    \"\"\"\n",
    "    # Call the LLM\n",
    "    response = llm_interface(\n",
    "        prompt=prompt,\n",
    "        model=model,\n",
    "        temperature=0.3,  # Lower temperature for more deterministic responses\n",
    "        top_p=0.9,\n",
    "        max_tokens=100\n",
    "    )\n",
    "    # Parse the response\n",
    "    try:\n",
    "        is_default = \"Yes\" in response.split(\"DEFAULT:\")[1].split(\",\")[0]\n",
    "        suggestion = response.split(\"SUGGESTION:\")[1].strip()\n",
    "        if suggestion.lower() == \"none\" or suggestion.lower() == \"none if good\":\n",
    "            suggestion = \"\"\n",
    "    except:\n",
    "        # If parsing fails, assume it's not a default and provide no suggestion\n",
    "        is_default = False\n",
    "        suggestion = \"\"\n",
    "    return is_default, suggestion\n",
    "\n",
    "\n",
    "def process_code_elements_file(input_file, output_file, model=\"llama3:instruct\"):\n",
    "    \"\"\"\n",
    "    Process a file containing code elements and create an output file with suggestions.\n",
    "    \"\"\"\n",
    "    with open(input_file, 'r') as infile:\n",
    "        reader = csv.reader(infile)\n",
    "        header = next(reader)  # Read the header\n",
    "\n",
    "        # Create output file with extended header\n",
    "        with open(output_file, 'w', newline='') as outfile:\n",
    "            writer = csv.writer(outfile)\n",
    "            writer.writerow(header + [\"Is Default\", \"Suggested Name\"])\n",
    "\n",
    "            # Use ThreadPoolExecutor for parallelizing the LLM calls\n",
    "            with concurrent.futures.ThreadPoolExecutor() as executor:\n",
    "                # Wrapping the reader with tqdm to show progress\n",
    "                total_rows = sum(1 for row in reader)  # Count the total number of rows (excluding header)\n",
    "                infile.seek(0)  # Go back to the start of the file to iterate over rows again\n",
    "                next(reader)  # Skip the header again\n",
    "\n",
    "                futures = {\n",
    "                    executor.submit(is_default_or_suggest_better_name, row[0], row[1], row[2], model): row\n",
    "                    for row in reader\n",
    "                }\n",
    "\n",
    "                # Show progress bar and process results as they complete\n",
    "                for future in tqdm(concurrent.futures.as_completed(futures), total=len(futures), desc=\"Processing Code Elements\", unit=\"rows\"):\n",
    "                    row = futures[future]\n",
    "                    is_default, suggestion = future.result()\n",
    "                    writer.writerow(row + [is_default, suggestion])\n",
    "                    # Optionally, print a message for each processed element\n",
    "                    # print(f\"Processed: {row[1]} {row[2]} - Default: {is_default}, Suggestion: {suggestion}\")\n",
    "\n",
    "# For Jupyter notebook usage\n",
    "\n",
    "\n",
    "def analyze_code_elements(input_file_path, output_file_path=None, model=\"llama3:instruct\"):\n",
    "    \"\"\"\n",
    "    Function to call from Jupyter notebook to analyze code elements\n",
    "    \"\"\"\n",
    "    if output_file_path is None:\n",
    "        output_file_path = input_file_path.replace('.csv', '_analyzed.csv')\n",
    "\n",
    "    process_code_elements_file(input_file_path, output_file_path, model)\n",
    "    print(f\"Analysis complete. Results saved to {output_file_path}\")\n",
    "\n",
    "\n",
    "# If running as a script\n",
    "if __name__ == \"__main__\":\n",
    "    # Only use sys.argv if not in a Jupyter environment\n",
    "    if not 'ipykernel' in sys.modules:\n",
    "        if len(sys.argv) < 2:\n",
    "            print(\"Usage: python script.py <input_file> [output_file] [model]\")\n",
    "            sys.exit(1)\n",
    "\n",
    "        input_file = sys.argv[1]\n",
    "        output_file = sys.argv[2] if len(sys.argv) > 2 else input_file.replace('.csv', '_analyzed.csv')\n",
    "        model = sys.argv[3] if len(sys.argv) > 3 else \"llama3:instruct\"\n",
    "\n",
    "        process_code_elements_file(input_file, output_file, model)\n",
    "        print(f\"Analysis complete. Results saved to {output_file}\")"
   ]
  },
  {
   "cell_type": "code",
   "execution_count": 4,
   "metadata": {},
   "outputs": [
    {
     "name": "stderr",
     "output_type": "stream",
     "text": [
      "Processing Code Elements: 100%|██████████| 3278/3278 [02:22<00:00, 22.93rows/s]"
     ]
    },
    {
     "name": "stdout",
     "output_type": "stream",
     "text": [
      "Analysis complete. Results saved to code_elements_20250226_131211_js_analyzed.csv\n"
     ]
    },
    {
     "name": "stderr",
     "output_type": "stream",
     "text": [
      "\n"
     ]
    }
   ],
   "source": [
    "# Example usage in Jupyter notebook\n",
    "input_file = \"code_elements_20250226_131211_js.csv\"\n",
    "analyze_code_elements(input_file)"
   ]
  },
  {
   "cell_type": "code",
   "execution_count": null,
   "metadata": {},
   "outputs": [],
   "source": []
  }
 ],
 "metadata": {
  "kernelspec": {
   "display_name": "Python 3",
   "language": "python",
   "name": "python3"
  },
  "language_info": {
   "codemirror_mode": {
    "name": "ipython",
    "version": 3
   },
   "file_extension": ".py",
   "mimetype": "text/x-python",
   "name": "python",
   "nbconvert_exporter": "python",
   "pygments_lexer": "ipython3",
   "version": "3.12.5"
  }
 },
 "nbformat": 4,
 "nbformat_minor": 2
}
