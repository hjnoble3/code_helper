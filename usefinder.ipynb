{
 "cells": [
  {
   "cell_type": "code",
   "execution_count": 16,
   "metadata": {},
   "outputs": [],
   "source": [
    "import os\n",
    "import re\n",
    "from collections import defaultdict\n",
    "from typing import Dict\n",
    "\n",
    "\n",
    "def find_function_usage(directory: str) -> Dict[str, Dict[str, int]]:\n",
    "    \"\"\"\n",
    "    Find all occurrences of functions in .ts and .svelte files within a directory.\n",
    "    Returns a dictionary mapping function names to files and their usage count.\n",
    "    \"\"\"\n",
    "\n",
    "    # Updated regex to handle different function definitions and exports\n",
    "    function_pattern = re.compile(r'''\n",
    "        (?:export\\s+)?                           # Optional export\n",
    "        (?:function|const|let|var|async\\s+function)  # Keywords for function definition\n",
    "        \\s+([a-zA-Z_]\\w*)                         # Function name\n",
    "        \\s*(?:\\(|=\\s*(?:\\(|\\[|\\{|async|\\(\\)\\s*=>|\\s*=>))  # Handle arrow functions and async\n",
    "    ''', re.VERBOSE)\n",
    "\n",
    "    # To store all functions found in the project\n",
    "    function_names = set()\n",
    "\n",
    "    # File extensions to scan\n",
    "    extensions = ('.ts', '.svelte')\n",
    "\n",
    "    # First pass: Collect all function names\n",
    "    for root, _, files in os.walk(directory):\n",
    "        for filename in files:\n",
    "            if filename.endswith(extensions):\n",
    "                filepath = os.path.join(root, filename)\n",
    "                try:\n",
    "                    with open(filepath, 'r', encoding='utf-8') as file:\n",
    "                        content = file.read()\n",
    "                        matches = function_pattern.findall(content)\n",
    "                        function_names.update(matches)\n",
    "                except Exception as e:\n",
    "                    print(f\"Error reading {filepath}: {e}\")\n",
    "\n",
    "    # Second pass: Count occurrences of each function\n",
    "    usage_by_function = defaultdict(lambda: defaultdict(int))\n",
    "\n",
    "    for root, _, files in os.walk(directory):\n",
    "        for filename in files:\n",
    "            if filename.endswith(extensions):\n",
    "                filepath = os.path.join(root, filename)\n",
    "                relative_path = os.path.relpath(filepath, directory)\n",
    "\n",
    "                try:\n",
    "                    with open(filepath, 'r', encoding='utf-8') as file:\n",
    "                        content = file.read()\n",
    "\n",
    "                        for function_name in function_names:\n",
    "                            usage_pattern = re.compile(r'\\b' + re.escape(function_name) + r'\\b')\n",
    "                            matches = usage_pattern.findall(content)\n",
    "\n",
    "                            if matches:\n",
    "                                usage_by_function[function_name][relative_path] += len(matches)\n",
    "                except Exception as e:\n",
    "                    print(f\"Error reading {filepath}: {e}\")\n",
    "\n",
    "    return usage_by_function"
   ]
  },
  {
   "cell_type": "code",
   "execution_count": 17,
   "metadata": {},
   "outputs": [
    {
     "name": "stdout",
     "output_type": "stream",
     "text": [
      "Scanning C:\\Users\\harold.noble\\Desktop\\RIC\\app\\frontend for function usage...\n"
     ]
    }
   ],
   "source": [
    "# Get project directory from user (default to current directory)\n",
    "directory = r\"C:\\Users\\harold.noble\\Desktop\\RIC\\app\\frontend\"\n",
    "print(f\"Scanning {directory} for function usage...\")\n",
    "usage = find_function_usage(directory)\n",
    "# Flatten the data into a list of rows for the CSV\n",
    "rows = []\n",
    "for func, files in usage.items():\n",
    "    for file, count in files.items():\n",
    "        rows.append([func, file, count])\n",
    "\n",
    "# Write the rows to a CSV file\n",
    "with open('function_file_counts.csv', 'w', newline='', encoding='utf-8') as file:\n",
    "    writer = csv.writer(file)\n",
    "    writer.writerow(['Function', 'File Path', 'Count'])  # Write header\n",
    "    writer.writerows(rows)  # Write data"
   ]
  },
  {
   "cell_type": "code",
   "execution_count": null,
   "metadata": {},
   "outputs": [],
   "source": []
  }
 ],
 "metadata": {
  "kernelspec": {
   "display_name": "Python 3",
   "language": "python",
   "name": "python3"
  },
  "language_info": {
   "codemirror_mode": {
    "name": "ipython",
    "version": 3
   },
   "file_extension": ".py",
   "mimetype": "text/x-python",
   "name": "python",
   "nbconvert_exporter": "python",
   "pygments_lexer": "ipython3",
   "version": "3.12.5"
  }
 },
 "nbformat": 4,
 "nbformat_minor": 2
}
