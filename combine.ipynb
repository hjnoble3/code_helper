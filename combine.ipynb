{
	"cells": [
		{
			"cell_type": "code",
			"execution_count": 4,
			"metadata": {},
			"outputs": [
				{
					"name": "stdout",
					"output_type": "stream",
					"text": [
						"All Python, TypeScript, and Svelte files have been combined into combined.txt\n"
					]
				}
			],
			"source": [
				"import os\n",
				"\n",
				"# Get the current directory\n",
				"directory = os.getcwd()\n",
				"# Output file name\n",
				"output_file = \"combined.txt\"\n",
				"\n",
				"# Open output file in write mode\n",
				"with open(output_file, \"w\", encoding=\"utf-8\") as outfile:\n",
				"    # Walk through all subdirectories\n",
				"    for root, _, files in os.walk(directory):\n",
				"        for filename in files:\n",
				"            if filename.endswith((\".py\", \".ts\", \".svelte\")):  # Process only .py, .ts, and .svelte files\n",
				"                file_path = os.path.join(root, filename)\n",
				"                with open(file_path, \"r\", encoding=\"utf-8\") as infile:\n",
				"                    outfile.write(f\"\\n=== {file_path} ===\\n\")  # Divider with file path\n",
				"                    outfile.write(infile.read() + \"\\n\")  # Append content with a newline\n",
				"\n",
				"print(f\"All Python, TypeScript, and Svelte files have been combined into {output_file}\")"
			]
		},
		{
			"cell_type": "code",
			"execution_count": null,
			"metadata": {},
			"outputs": [],
			"source": []
		}
	],
	"metadata": {
		"kernelspec": {
			"display_name": "Python 3",
			"language": "python",
			"name": "python3"
		},
		"language_info": {
			"codemirror_mode": {
				"name": "ipython",
				"version": 3
			},
			"file_extension": ".py",
			"mimetype": "text/x-python",
			"name": "python",
			"nbconvert_exporter": "python",
			"pygments_lexer": "ipython3",
			"version": "3.12.5"
		}
	},
	"nbformat": 4,
	"nbformat_minor": 2
}
